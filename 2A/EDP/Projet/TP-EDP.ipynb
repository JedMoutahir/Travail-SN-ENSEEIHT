{
 "cells": [
  {
   "attachments": {},
   "cell_type": "markdown",
   "metadata": {},
   "source": [
    "# EDP : Analyse mathématique et principes de la méthode des éléments finis "
   ]
  },
  {
   "attachments": {},
   "cell_type": "markdown",
   "metadata": {},
   "source": [
    "### Jed Moutahir et Steven Zheng, groupe B2"
   ]
  },
  {
   "attachments": {},
   "cell_type": "markdown",
   "metadata": {},
   "source": [
    "# 1 Equation aux dérivées partielles élliptiques "
   ]
  },
  {
   "attachments": {},
   "cell_type": "markdown",
   "metadata": {},
   "source": [
    "## 1.1 Position du problème et mise en forme variationnelle"
   ]
  },
  {
   "attachments": {},
   "cell_type": "markdown",
   "metadata": {},
   "source": [
    "Soit $\\Omega = ]0,1[ \\times ]0,1[ \\subset \\R^2$ et $\\partial \\Omega$ sa frontière partitionnée en deux sous-ensembles $\\partial \\Omega_{n} \\cup \\partial \\Omega_{d}  = \\partial \\Omega$. Etant donnée $f \\in L^2(\\Omega) $, $u_{d} \\in H^1(\\Omega)$ et $g \\in L^2(\\partial \\Omega_n)$, le problème de Laplace revient à déterminer $u$ solution de:\n",
    "\n",
    "$$\n",
    "\\left\\{\n",
    "    \\begin{array}{ll}\n",
    "        -\\Delta u(x,y) = f(x,y) &  sur ~ \\Omega, \\\\\n",
    "        u(x,y) = u_d(x,y) & sur  ~ \\partial \\Omega_d, \\\\\n",
    "        \\frac{\\partial u(x,y)}{\\partial n} = g(x,y) & sur ~ \\partial \\Omega_n\n",
    "    \\end{array}\n",
    "\\right.\n",
    "$$"
   ]
  },
  {
   "attachments": {},
   "cell_type": "markdown",
   "metadata": {},
   "source": [
    "- Formulation variationnelle du problème :\n",
    "\n",
    "On cherche à interpréter le problème au sens des distributions. On cherche $u \\in H^2(\\Omega)$. \n",
    "\n",
    "Le problème se réécrit :\n",
    "\n",
    "$$\n",
    "\\left\\{\n",
    "    \\begin{array}{ll}\n",
    "        -\\Delta u(x,y) = f(x,y) & dans ~ L^2(\\Omega) \\\\\n",
    "        \\gamma_0 (u(x,y)) = u_d(x,y) & dans ~ H^1(\\partial\\Omega_d) \\\\\n",
    "        \\gamma_1 (u(x,y)) = g(x,y) & dans ~ L^2(\\partial\\Omega_n) \n",
    "    \\end{array}\n",
    "\\right.\n",
    "$$\n",
    "\n"
   ]
  },
  {
   "attachments": {},
   "cell_type": "markdown",
   "metadata": {},
   "source": [
    "## 1.2  Partie théorique"
   ]
  },
  {
   "attachments": {},
   "cell_type": "markdown",
   "metadata": {},
   "source": [
    "### Etape 1"
   ]
  },
  {
   "attachments": {},
   "cell_type": "markdown",
   "metadata": {},
   "source": [
    "\n",
    "On cherche donc $u \\in H^2(\\Omega) \\bigcap H^1(\\Omega)$.\n",
    "\n",
    "En intégrant sur $\\Omega$ et en multipliant par un $w \\in L^2(\\Omega)$ on obtient $$\\displaystyle \\int_\\Omega {-\\Delta uw} \\, \\mathrm{d}x = \\displaystyle \\int_\\Omega {fw} \\, \\mathrm{d}x$$\n",
    "\n",
    "Or $H^1(\\Omega) \\subseteq L^2(\\Omega)$, on en vient donc à prendre un $w \\in H^1(\\Omega)$ pour trouver $ u \\in H^2(\\Omega)$ tel que  $$- \\displaystyle \\int_\\Omega {\\Delta u w} \\, \\mathrm{d}x = \\displaystyle \\int_\\Omega {fw} \\, \\mathrm{d}x$$\n",
    "\n",
    "Pour $v \\in H^1(\\Omega)$ et $u \\in H^2(\\Omega)$ on a la formule de Green $- \\displaystyle \\int_\\Omega {\\Delta u  v} \\, \\mathrm{d}x = \\displaystyle \\int_\\Omega {\\nabla u . \\nabla v} \\, \\mathrm{d}x - \\displaystyle \\int_{\\partial\\Omega} {\\gamma_1(u) \\gamma_0 (v)} \\, \\mathrm{d}\\gamma $.\n",
    "\n",
    "Ce qui nous donne que l'on peut chercher $u \\in H^2(\\Omega)$ tel que avec un $w \\in H^1(\\Omega)$  $$\\displaystyle \\int_\\Omega {\\nabla u . \\nabla w} \\, \\mathrm{d}x = \\displaystyle \\int_\\Omega {fw} \\, \\mathrm{d}x + \\displaystyle \\int_{\\partial\\Omega} {\\gamma_1(u) \\gamma_0 (w)} \\, \\mathrm{d}\\gamma$$\n",
    "\n",
    "On peut donc effectuer la recherche de $u$ sur le sous-espace $H^1(\\Omega)$.\n",
    "\n",
    "De plus on a l'union disjointe $\\partial\\Omega = \\partial\\Omega_n \\bigcup \\partial\\Omega_d$ donc en séparant l'intégrale on obtient :\n",
    "\n",
    "$$\\displaystyle \\int_\\Omega {\\nabla u . \\nabla w} \\, \\mathrm{d}x = \\displaystyle \\int_\\Omega {fw} \\, \\mathrm{d}x + \\displaystyle \\int_{\\partial\\Omega_n} {\\gamma_1(u) \\gamma_0 (w)} \\, \\mathrm{d}\\gamma + \\displaystyle \\int_{\\partial\\Omega_d} {\\gamma_1(u) \\gamma_0 (w)} \\, \\mathrm{d}\\gamma$$\n",
    "\n",
    "On a l'égalité suivante dans le domaine des distributions $\\forall(x,y) \\in \\partial\\Omega_n : \\gamma_1(u(x,y)) = \\frac{\\partial u(x,y)}{\\partial n} = g(x,y)$.\n",
    "\n",
    "De plus, le problème impose $\\forall(x,y) \\in \\partial\\Omega_d$  $u(x,y) = u_d(x,y)$ donc $v = u - u_d \\in H^1_0(\\Omega)$.\n",
    "\n",
    "En prenant $w$ dans l'espace $H^1_0(\\Omega)$, $\\gamma_0(w) = 0$ sur $\\partial\\Omega_d$, ce qui donne $\\displaystyle \\int_{\\partial\\Omega_d} {\\gamma_1(u) \\gamma_0 (w)} \\, \\mathrm{d}\\gamma = 0$. \n",
    "\n",
    "L'égalité précédente se réécrit donc avec ces modifications : \n",
    "\n",
    "$$\\displaystyle \\int_\\Omega {\\nabla (v + u_d) . \\nabla w} \\, \\mathrm{d}x = \\displaystyle \\int_\\Omega {fw} \\, \\mathrm{d}x + \\displaystyle \\int_{\\partial\\Omega_n} {g \\gamma_0 (w)} \\, \\mathrm{d}\\gamma$$\n",
    "\n",
    "Donc le problème s'écrit : on cherche $u \\in H^1(\\Omega)$ tel que $$\\displaystyle \\int_\\Omega {\\nabla v . \\nabla w} \\, \\mathrm{d}x = \\displaystyle \\int_\\Omega {fw} \\, \\mathrm{d}x + \\displaystyle \\int_{\\partial\\Omega_n} {g \\gamma_0 (w)} \\, \\mathrm{d}\\gamma - \\displaystyle \\int_\\Omega {\\nabla u_d . \\nabla w} \\, \\mathrm{d}x$$ avec $v,w \\in H^1_0(\\Omega)$, $v = u - u_d$.\n"
   ]
  },
  {
   "attachments": {},
   "cell_type": "markdown",
   "metadata": {},
   "source": [
    "### Etape 2"
   ]
  },
  {
   "attachments": {},
   "cell_type": "markdown",
   "metadata": {},
   "source": [
    " - Ce probleme s'écrit donc $A(v,w) = L(w)$ avec \n",
    "\n",
    "$$\n",
    "A : \\left\\{\n",
    "    \\begin{aligned}\n",
    "        H^1_0(\\Omega) \\times H^1_0(\\Omega) & \\longrightarrow \\mathbb{R}\\\\\n",
    "        (v,w) & \\longrightarrow \\displaystyle \\int_\\Omega {\\nabla v . \\nabla w} \\, \\mathrm{d}x\n",
    "    \\end{aligned}\n",
    "\\right.\n",
    "$$\n",
    "\n",
    "$$\n",
    "L : \\left\\{\n",
    "    \\begin{aligned}\n",
    "        H^1_0(\\Omega) & \\longrightarrow \\mathbb{R}\\\\\n",
    "        w & \\longrightarrow \\displaystyle \\int_\\Omega {fw} \\, \\mathrm{d}x + \\displaystyle \\int_{\\partial\\Omega_n} {g \\gamma_0 (w)} \\, \\mathrm{d}\\gamma - \\displaystyle \\int_\\Omega {\\nabla u_d . \\nabla w} \\, \\mathrm{d}x\n",
    "    \\end{aligned}\n",
    "\\right.\n",
    "$$\n",
    "\n",
    "$(H^1_0(\\Omega), <.,.>_{1,\\Omega})$ est un Hilbert\n",
    "\n",
    "$A$ est une *forme bilinéaire* par linéarité de la dérivée et de l'intégrale, *continue* car $\\mid a(u,v)\\mid = \\mid <u,v>_{1,\\Omega} \\leq \\mid u\\mid_{1,\\Omega}\\mid v\\mid_{1,\\Omega}$ par Cauchy-Schwarz sur un espace de Hilbert, et *coercive* car $\\mid a(u,u)\\mid = \\mid u\\mid_{1,\\Omega}^2$\n",
    "\n",
    "$L$ est une *forme linéaire* par linéarité de la dérivée et de l'intégrale.\n",
    "\n",
    "$L$ est *continue* car $\\mid L(w) \\mid = \n",
    "\\mid <f,w>_{L^2(\\Omega)} + <g,\\gamma_0 (w)>_{L^2(\\partial\\Omega_n)} - <\\nabla u_d , \\nabla w>_{1,\\Omega}\\mid $\n",
    "d'où $ \\mid L(w)\\mid \\leq \\mid <f,w>_{L^2(\\Omega)}\\mid + \\mid<g,\\gamma_0 (w)>_{L^2(\\partial\\Omega_n)}\\mid + \\mid<\\nabla u_d , \\nabla w>_{1,\\Omega}\\mid$\n",
    "\n",
    "Par inégalité de Cauchy-Schwarz on obtient :\n",
    "$ \\mid L(w) \\mid \\leq \\|f\\|_{L^2(\\Omega)}\\|w\\|_{L^2(\\Omega)} + \\|g\\|_{L^2(\\partial\\Omega)}\\|\\gamma_0 (w)\\|_{L^2(\\partial\\Omega)} + |u_d|_{1,\\Omega}|w|_{1,\\Omega} $\n",
    "\n",
    "$\\Omega$ étant un ouvert fermé, on peut utiliser l'inégalité de Pointcarré, on a pour un $C > 0$, $\\|w\\|_{L^2(\\Omega)} \\leq C |w|_{1,\\Omega}$, et $\\gamma_0$ étant continue, il existe un $M > 0$ tel que $\\|\\gamma_0 (w)\\|_{L^2(\\partial\\Omega)} \\leq M |w|_{1,\\Omega}$.\n",
    "\n",
    "On a alors :\n",
    "$$ \\mid L(w) \\mid \\leq (\\|f\\|_{L^2(\\Omega)} C + \\|g\\|_{L^2(\\partial\\Omega)} M + |u_d|_{1,\\Omega})|w|_{1,\\Omega} $$\n",
    "qui donne bien la continuité de $L$ sur $H_0^1(\\Omega)$.\n",
    "\n",
    "\n",
    "Avec ses hypothèses vérifiées au dessus, on peut appliquer le théroème de Lax-Milgram qui donne l'existence d'une unique solution $v \\in H^1_0(\\Omega)$ qui vérifie \n",
    "\n",
    "$$ \\forall w \\in H^1_0(\\Omega) A(v,w) = L(w)$$\n",
    "\n",
    "Par définition on a $v = u - u_d$ donc $u$ est uniquement définie par $v$ et $u_d$, donc une solution unique existant pour $v$, il en est de même pour $u$ pour le problème initial. \n",
    " "
   ]
  },
  {
   "attachments": {},
   "cell_type": "markdown",
   "metadata": {},
   "source": [
    "### Etape 3"
   ]
  },
  {
   "attachments": {},
   "cell_type": "markdown",
   "metadata": {},
   "source": [
    "- Avec $n$ le nombre de degrés de liberté, ($\\eta_k$) les fonctions de base des éléments finis, on peut alors noter toute fonction $h \\in H^1_0(\\Omega)$ commme $h = \\sum_{i=1}^n h_i \\eta_i$ avec des ($h_i$) uniquement défini par la base des ($\\eta_k$). \n",
    "\n",
    "On note par rapport à la fromule précédente $v_h = \\sum_{i=1}^n v_i \\eta_i$ et $w_h = \\sum_{i=1}^n w_i \\eta_i$ les fonctions discrète dans la base donnée.\n",
    "\n",
    "On a alors la forme variationnelle discrète du problème : on cherche $u_h$ tel que $\\forall w_h$ tel que ci-dessus $A(v_h,w_h) = L(w_h)$ ce qui se réécrit $\\sum_{i,j} v_i w_j A(\\eta_i, \\eta_j) = \\sum_{i=1}^n w_i L(\\eta_i)$, $A$ et $L$ étant des formes bilinéaire et linéaire.\n",
    "\n",
    "On cherche alors $$\\sum_{i=1}^n w_i ( L(\\eta_i) - \\sum_{j=1}^n v_j A(\\eta_j,\\eta_i) ) = 0$$ et cela pour tout $w_i$ avec $i \\in [1:n]$, qui implique alors que pour tout $i \\in [1:n]$, $L(\\eta_i) - \\sum_{j=1}^n v_j A(\\eta_j,\\eta_i) = 0$.\n",
    "\n",
    "On retrouve le système linéaire équivalent : $\\sum_{j=1}^n v_j A(\\eta_j,\\eta_i) = L(\\eta_i)$ pour $i \\in [1:n]$, qui vaut aussi $Ax = b$ avec $A \\in \\mathbb{R}^{n \\times n}$, $x,b \\in \\mathbb{R}^n$ vérifiant \n",
    "\n",
    "$$ A_{ij} = A(\\eta_j,\\eta_i) = \\displaystyle \\int_\\Omega {\\nabla \\eta_j . \\nabla \\eta_i} = \\displaystyle \\int_\\Omega {\\nabla \\eta_i^T \\nabla \\eta_j} $$\n",
    "\n",
    "on a $\\nabla u_d = \\sum_{k=1}^n U_k \\nabla \\eta_k$ par définition de $U_k$, d'où \n",
    "\n",
    "$$ b_i = L(\\eta_i) = \\displaystyle \\int_\\Omega {f \\eta_i} \\, \\mathrm{d}x + \\displaystyle \\int_{\\partial\\Omega_n} {g \\gamma_0 (\\eta_i)} \\, \\mathrm{d}\\gamma - \\displaystyle \\int_\\Omega {(\\sum_{k=1}^n U_k \\nabla \\eta_k) . \\nabla \\eta_i} \\, \\mathrm{d}x \\Rightarrow b_i = \\displaystyle \\int_\\Omega {f \\eta_i} \\, \\mathrm{d}x + \\displaystyle \\int_{\\partial\\Omega_n} {g \\eta_i} \\, \\mathrm{d}\\gamma - \\sum_{k=1}^n U_k \\displaystyle \\int_\\Omega {\\nabla \\eta_i^T \\nabla \\eta_k} \\, \\mathrm{d}x $$\n",
    "\n",
    "et \n",
    "\n",
    "$$ x = (v_j)_{j\\in[|1,n|]}$$\n",
    "\n",
    "ce qui nous donne le système d'équations cherché. \n",
    "\n",
    "Le problème de Lax-Milgram s'applique aussi dans l'espace engendré par les fonctions de base des éléments finis $Vect((\\eta_k)_k)$. Donc la solution $u_h$ est unique, son écriture dans la base des ($\\eta_k$) est aussi unique car c'est une base de l'espace, il existe donc une unique solution au système $Ax = b$ car le vecteur $x$ est défini de manière unique par rapport à l'unique solution $u_h$. \n"
   ]
  },
  {
   "attachments": {},
   "cell_type": "markdown",
   "metadata": {},
   "source": [
    "## 1.3 Mise en œuvre pratique"
   ]
  },
  {
   "cell_type": "code",
   "execution_count": 82,
   "metadata": {},
   "outputs": [],
   "source": [
    "import matplotlib.pyplot as plt\n",
    "import mpl_toolkits.mplot3d\n",
    "import numpy as np\n",
    "import scipy.sparse as scps\n",
    "import scipy.sparse.linalg as ssl\n",
    "import math"
   ]
  },
  {
   "cell_type": "code",
   "execution_count": 83,
   "metadata": {},
   "outputs": [],
   "source": [
    "def maillage(n):\n",
    "#\n",
    "# Une discretisation possible d'une EDP elliptique sur le domaine ]0,1[ x ]0,1[\n",
    "# Le carre [0,1]x[0,1] est maille uniquement avec des triangles; \n",
    "# Les conditions limites sont de type Dirichlet uniquement   => neumann  =[];\n",
    "#\n",
    "# Entrees :\n",
    "# n : nombre de points par cote du care => Npts points de discretisation au\n",
    "# total\n",
    "#\n",
    "# Sorties :\n",
    "# coordinates : matrice a deux colonnes. Chaque ligne contient les \n",
    "# coordonnes 2D d'un des points de la discretisation. Ces sommets seront \n",
    "# identifies a l'indice de la ligne correspondante dans la matrice\n",
    "# coordinates.\n",
    "# elements3 : matrice a trois colonnes. Chaque ligne contient les indices \n",
    "# des sommets d'un element triangle, dans le sens antihoraire. \n",
    "# dirichlet : vecteur colonne des indices des sommets de la frontiere de\n",
    "# Dirichlet.\n",
    "# neumann : matrice a deux colonnes. Chaque ligne contient les indices \n",
    "# des deux sommets d'une arete de la frontiere de Neumann.\n",
    "# (neumann est vide sur cet exemple)\n",
    "#\n",
    "##################################################################################\n",
    "    h=1/(n-1)\n",
    "    npoin       = n*n ; \n",
    "    nelem       = 2*(n-1)*(n-1) ;\n",
    "    coordinates = np.zeros((npoin,2)); \n",
    "    elements3   = (np.zeros((nelem,3))).astype(int) ;\n",
    "    neumann     = [];\n",
    "    dirichlet=(np.zeros((4*n-4,1))).astype(int)\n",
    "    # Coordonnees et connectivites :\n",
    "    e = -1 ; \n",
    "    p = -1 ;\n",
    "    x=np.zeros((n+1,1))\n",
    "    x[n,0]=1.\n",
    "    for l in range (n+1):\n",
    "        x[l,0]=l*h\n",
    "    for j in range (n):\n",
    "            for i in range(n):\n",
    "                p = p + 1  \n",
    "                coordinates[p,0] = x[i,0]  \n",
    "                coordinates[p,1] = x[j,0] \n",
    "                if ((i != n-1) & (j != n-1)):\n",
    "                    p1 = p\n",
    "                    p2 = p1 + 1 \n",
    "                    p3 = p1 + n \n",
    "                    p4 = p2 + n \n",
    "                    e = e + 1 \n",
    "                    elements3[e,0] = p1 \n",
    "                    elements3[e,1] = p2 \n",
    "                    elements3[e,2] = p3 \n",
    "                    e = e + 1\n",
    "                    elements3[e,0] = p4 \n",
    "                    elements3[e,1] = p3 \n",
    "                    elements3[e,2] = p2 \n",
    "    #Liste des sommets de la frontiere de Dirichlet:\n",
    "    p=-1\n",
    "    for j in range(n):\n",
    "        p=p+1\n",
    "        dirichlet[p,0] = j  \n",
    "    for j in range(n*2-1,n*(n-1),n):\n",
    "        p=p+1\n",
    "        dirichlet[p,0] = j \n",
    "    for j in range(n*n-1,n*n-n-1,-1):\n",
    "        p=p+1\n",
    "        dirichlet[p,0] = j \n",
    "    for j in range(n*n-2*n,n-1,-n):\n",
    "        p=p+1\n",
    "        dirichlet[p,0] = j \n",
    "\n",
    "    return coordinates, elements3,dirichlet, neumann"
   ]
  },
  {
   "cell_type": "code",
   "execution_count": 84,
   "metadata": {},
   "outputs": [],
   "source": [
    "def show(coordinates,u):\n",
    "#\n",
    "# Fonction d'affichage de la solution u sur le maillage defini par\n",
    "# elements3, coordinates.\n",
    "#\n",
    "# Entrees:\n",
    "# elements3 : matrice a trois colonnes contenant les elements triangles\n",
    "# de la discretisation, identifies par les indices de leurs trois\n",
    "# sommets.\n",
    "# coordinates : matrice a deux colonnes contenant les coordonnes 2D des\n",
    "# points de la discretisation.\n",
    "# u : vecteur colonne de longueur egale au nombre de lignes de\n",
    "# coordinates contenant les valeurs de la solution a afficher aux\n",
    "# points de la discretisation.\n",
    "#\n",
    "# Sorties : Aucune, mais la fonction doit s'afficher dans une figure.\n",
    "##########################################################################\n",
    "    ax= plt.figure().add_subplot(projection='3d')\n",
    "    ax.plot_trisurf(coordinates[:,0],coordinates[:,1],u,linewidth=0.2,antialiased=True)\n",
    "    plt.show()"
   ]
  },
  {
   "attachments": {},
   "cell_type": "markdown",
   "metadata": {},
   "source": [
    "### Partie I : maillage triangulaire et conditions de Dirichlet"
   ]
  },
  {
   "cell_type": "code",
   "execution_count": 85,
   "metadata": {},
   "outputs": [],
   "source": [
    "#Construction de la matrice de raideur relative à un élement triangulaire\n",
    "def raideur_triangle(sommets):\n",
    "    a1,a2,a3=sommets\n",
    "    # Calcul de la matrice J\n",
    "    J = np.array([[a2[0]-a1[0], a3[0]-a1[0]],[a2[1]-a1[1], a3[1]-a1[1]]])\n",
    "    alpha = np.linalg.det(J)\n",
    "    \n",
    "    m = np.zeros((3,3))\n",
    "    # Calcul des coefficients de M \n",
    "    for i in range(3):\n",
    "        for j in range(3):\n",
    "            # Calcul des dérivées des fonctions de base sur le triangle \n",
    "            dni = (1/alpha) * np.array([[sommets[(i+1)%3][1]-sommets[(i+2)%3][1]], [sommets[(i+2)%3][0]-sommets[(i+1)%3][0]]])\n",
    "            dnj = (1/alpha) * np.array([[sommets[(j+1)%3][1]-sommets[(j+2)%3][1]], [sommets[(j+2)%3][0]-sommets[(j+1)%3][0]]])\n",
    "            # Calcul du coefficient (i,j)\n",
    "            m[i][j] = (alpha/2) * (np.transpose(dni).dot(dnj))\n",
    "    \n",
    "    return m, alpha"
   ]
  },
  {
   "cell_type": "code",
   "execution_count": 86,
   "metadata": {},
   "outputs": [],
   "source": [
    "#Assemblage de la matrice dans le cas d'un maillage uniquement constitué de triangles\n",
    "def assemblage_triangle(elements3, coordinates, dirichlet):\n",
    "    l = len(coordinates)\n",
    "    a = np.zeros((l,l))\n",
    "    b = np.zeros((l,1))\n",
    "    \n",
    "    def f(x,y):\n",
    "        return 1\n",
    "\n",
    "    # Calcul de la matrice de raideur globale\n",
    "    for i in range(len(elements3)):\n",
    "        # Récupération des sommets de l'élément\n",
    "        sommets = [coordinates[elements3[i][0]], coordinates[elements3[i][1]], coordinates[elements3[i][2]]]\n",
    "        # Calcul de la matrice de raideur de l'élément\n",
    "        m, alpha = raideur_triangle(sommets)\n",
    "        # Assemblage de la matrice de raideur globale\n",
    "        # Calcul du centre de gravité de l'élément\n",
    "        cg = (1/3) * (sommets[0] + sommets[1] + sommets[2])\n",
    "        for j in range(3):\n",
    "            for k in range(3):\n",
    "                a[elements3[i][j]][elements3[i][k]] += m[j][k]\n",
    "            #Approximation pour la quadrature du second membre\n",
    "\n",
    "            b[elements3[i][j]] += (alpha/6) * f(cg[0],cg[1])\n",
    "\n",
    "    #Condition de Dirichlet\n",
    "    def ud(x,y):\n",
    "        return 1\n",
    "    \n",
    "    ld, cd = np.shape(dirichlet)\n",
    "    v = np.zeros((l,1))\n",
    "\n",
    "    for i in range(ld):\n",
    "        idsommet = dirichlet[i,0]\n",
    "        x,y = coordinates[idsommet]\n",
    "        v[idsommet] = ud(x,y)\n",
    "    \n",
    "    # modification de b par rapport à la condition de Dirichlet \n",
    "    b = b - a.dot(v)\n",
    "    uh = v\n",
    "    \n",
    "    # calcul des éléments a l'intérieur du domaine\n",
    "    sommets = [i for i in range(l)]\n",
    "    sommets_int = np.setdiff1d(sommets, dirichlet)\n",
    "    al = a[sommets_int]\n",
    "    amod = al[:,sommets_int]\n",
    "    bmod = b[sommets_int]\n",
    "    # on calcul u sur les points intérieurs, avec les matrices \n",
    "    # A et b modifiées qui n'ont que les éléments qui \n",
    "    # permettent de calculer la solution sur l'intérieur du domaine \n",
    "    umod =  (np.linalg.inv(amod)).dot(bmod)\n",
    "    uh[sommets_int] = umod \n",
    "    \n",
    "    return uh, amod, bmod\n",
    "    \n",
    "\n",
    "    "
   ]
  },
  {
   "cell_type": "code",
   "execution_count": 87,
   "metadata": {},
   "outputs": [
    {
     "data": {
      "image/png": "[encoded data removed]",
      "text/plain": [
       "<Figure size 432x288 with 1 Axes>"
      ]
     },
     "metadata": {
      "needs_background": "light"
     },
     "output_type": "display_data"
    }
   ],
   "source": [
    "coordinates, elements3, dirichlet, neumann = maillage(9)\n",
    "uh,a,b = assemblage_triangle(elements3, coordinates, dirichlet)\n",
    "show(coordinates, (uh[:,0]))"
   ]
  },
  {
   "attachments": {},
   "cell_type": "markdown",
   "metadata": {},
   "source": [
    "### Partie II : maillage mixte et ajoût des conditions de Neumann"
   ]
  },
  {
   "cell_type": "code",
   "execution_count": 88,
   "metadata": {},
   "outputs": [],
   "source": [
    "############################# Maillage mixte ################\n",
    "e3=np.array([[1,2,12],[2,3,12],[3,4,14],[4,5,14],[2,15,3],[3,15,4]]).astype(int)\n",
    "e4=np.array([[0,1,12,11],[11,12,13,10],[12,3,14,13],[10,13,8,9],[13,14,7,8],[14,5,6,7]]).astype(int)\n",
    "dds=np.array([2,15,4,6,7,8,9,10,11,0]).astype(int)\n",
    "nns=np.array([[4,5],[5,6],[0,1],[1,2]]).astype(int)\n",
    "ccs=np.array([[0.,0.],[0.33333333333333,0],[0.53333333333333,0.],\n",
    "                      [0.66666666666667,0.33333333333333],[1.,0.47],[1,0.66666666666667],\n",
    "                     [1.,1.],[0.66666666666667,1.],[0.33333333333333,1.], [0.,1.],\n",
    "                     [0.,0.66666666666667],[0.,0.33333333333333],[0.33333333333333,0.33333333333333],\n",
    "                     [0.33333333333333,0.66666666666667],[0.66666666666667,0.66666666666667],[1.,0.]])"
   ]
  },
  {
   "attachments": {},
   "cell_type": "markdown",
   "metadata": {},
   "source": [
    "- Matrice de raideur associé à un élément de type quadrangle\n",
    "\n",
    "On a $\\nabla \\phi (\\xi, \\zeta) = \n",
    "\\left(\n",
    "    \\begin{array}{ll}\n",
    "        \\zeta - 1 & \\xi - 1\\\\\n",
    "        1 - \\zeta & - \\xi \\\\\n",
    "        \\zeta & \\xi \\\\\n",
    "        - \\zeta & 1 - \\xi \\\\\n",
    "    \\end{array}\n",
    "\\right)$\n",
    "\n",
    "et d'après la formule du changement de variable, on trouve pour la matrice de raideur $M$ :\n",
    "$M_{ij} =  \\displaystyle \\int_{[0,1]} \\int_{[0,1]} {\\nabla \\phi_i^T (J_\\phi^T J_\\phi)^{-1} \\nabla \\phi_j ^T |J_\\phi|}\\, \\mathrm{d}\\xi \\, \\mathrm{d}\\zeta$ avec $\\nabla \\phi_i$ la ligne $i$ du vecteur $\\nabla \\phi$.\n",
    "\n",
    "En notant $(J_\\phi^T J_\\phi)^{-1} = \n",
    "\\left(\n",
    "    \\begin{array}{ll}\n",
    "        a & b\\\\\n",
    "        b & c\n",
    "    \\end{array}\n",
    "\\right)$ la matrice Jacobienne de $\\phi$ symétrique, on trouve par calcul des intégrales :\n",
    "\n",
    "$ M = \\frac{|J_\\phi|}{6}\n",
    "\\left(\n",
    "    \\begin{array}{ll}\n",
    "        2a + 3b + 2c & -2a + c & -a -3b - c & a - 2c\\\\\n",
    "        -2a + c & 2a - 3b + 2c & a - 2c & - a + 3b - c \\\\\n",
    "        -a -3b - c & a - 2c & 2a + 3b + 2c & -2a + c \\\\\n",
    "        a - 2c & - a + 3b - c & -2a + c & 2a - 3b + 2c\n",
    "    \\end{array}\n",
    "\\right)$\n",
    "\n",
    "Exemple de calcul de l'expression d'un coefficient de M ($M_{0,0}$) en passant par l'intégrale : \n",
    "$$\\int_0^1{\\int_0^1 {(y-1)(a(y-1) + b(x-1)) + (x-1)(b(y-1) + c(x-1)) dx}dy} = \\frac{1}{6}(2a + 3b + 2c)$$"
   ]
  },
  {
   "cell_type": "code",
   "execution_count": 89,
   "metadata": {},
   "outputs": [],
   "source": [
    "#calcul de la matrice de raideur élémentaire relative à un élément quadrangle \n",
    "#sommets : sommets d'un quadrangle dans le sens antihoraire\n",
    "def raideur_quadrangle(sommets):\n",
    "    a1,a2,a3,a4 = sommets\n",
    "    # Calcul de la matrice J et des éléments utiles aux calculs \n",
    "    J = np.array([[a2[0]-a1[0], a4[0]-a1[0]], [a2[1]-a1[1], a4[1]-a1[1]]])\n",
    "    Jnorm = np.linalg.norm(J)\n",
    "    alpha = np.linalg.det(J)\n",
    "    SJinv = np.linalg.inv(np.transpose(J).dot(J))\n",
    "    a, b, c = SJinv[0,0], SJinv[0,1], SJinv[1,1]\n",
    "    \n",
    "    # calcul des coefficients de M \n",
    "    m = np.zeros((4,4))\n",
    "\n",
    "    m[0,0] = 2*a + 3*b + 2*c\n",
    "    m[0,1] = -2*a + c\n",
    "    m[0,2] = -a -3*b - c\n",
    "    m[0,3] = a - 2*c\n",
    "\n",
    "    m[1,0] = -2*a + c\n",
    "    m[1,1] = 2*a - 3*b + 2*c\n",
    "    m[1,2] = a - 2*c\n",
    "    m[1,3] = -a + 3*b - c\n",
    "\n",
    "    m[2,0] = -a -3*b - c\n",
    "    m[2,1] = a - 2*c\n",
    "    m[2,2] = 2*a + 3*b + 2*c\n",
    "    m[2,3] = -2*a + c\n",
    "\n",
    "    m[3,0] = a - 2*c\n",
    "    m[3,1] = -a + 3*b - c\n",
    "    m[3,2] = -2*a + c\n",
    "    m[3,3] = 2*a - 3*b + 2*c\n",
    "    \n",
    "    m = m*(Jnorm/6)\n",
    "    \n",
    "    return m, alpha "
   ]
  },
  {
   "cell_type": "code",
   "execution_count": 90,
   "metadata": {},
   "outputs": [],
   "source": [
    "#Assemblage de la matrice dans le cas d'un maillage uniquement constitué de rectangles\n",
    "def assemblage_mixte(elements3, elements4, coordinates, dirichlet, neumann):\n",
    "    l = len(coordinates)\n",
    "    a = np.zeros((l,l))\n",
    "    b = np.zeros((l,1))\n",
    "    \n",
    "    def f(x,y):\n",
    "        return 1\n",
    "\n",
    "    # Calcul de la matrice de raideur globale\n",
    "    for i in range(len(elements3)):\n",
    "        # Récupération des sommets de l'élément\n",
    "        sommets = [coordinates[elements3[i][0]], coordinates[elements3[i][1]], coordinates[elements3[i][2]]]\n",
    "        # Calcul de la matrice de raideur de l'élément\n",
    "        m, alpha = raideur_triangle(sommets)\n",
    "        # Assemblage de la matrice de raideur globale\n",
    "        # Calcul du centre de gravité de l'élément\n",
    "        cg = (1/3) * (sommets[0] + sommets[1] + sommets[2])\n",
    "        for j in range(3):\n",
    "            for k in range(3):\n",
    "                a[elements3[i][j]][elements3[i][k]] += m[j][k]\n",
    "            #Approximation pour la quadrature du second membre\n",
    "            b[elements3[i][j]] += (alpha/6) * f(cg[0],cg[1])\n",
    "    \n",
    "    for i in range(len(elements4)):\n",
    "        # Récupération des sommets de l'élément\n",
    "        sommets = [coordinates[elements4[i][0]], coordinates[elements4[i][1]], coordinates[elements4[i][2]], coordinates[elements4[i][3]]]\n",
    "        # Calcul de la matrice de raideur de l'élément\n",
    "        m, alpha = raideur_quadrangle(sommets)\n",
    "        # Assemblage de la matrice de raideur globale\n",
    "        # Calcul du centre de gravité de l'élément\n",
    "        cg = (1/4) * (sommets[0] + sommets[1] + sommets[2] + sommets[3])\n",
    "        for j in range(4):\n",
    "            for k in range(4):\n",
    "                a[elements4[i][j]][elements4[i][k]] += m[j][k]\n",
    "            #Approximation pour la quadrature du second membre\n",
    "            b[elements4[i][j]] += (alpha/4) * f(cg[0],cg[1])\n",
    "\n",
    "     # conditions de Dirichlet\n",
    "    def ud(x,y):\n",
    "        return 1\n",
    "    \n",
    "    v = np.zeros((l,1))\n",
    "    for idsommet in dirichlet:\n",
    "        x,y = coordinates[idsommet]\n",
    "        v[idsommet] = ud(x,y)\n",
    "    \n",
    "    # modification de b par rapport à la condition de Dirichlet \n",
    "    b = b - a.dot(v)\n",
    "    uh = v\n",
    "    \n",
    "    # conditions de Neumann \n",
    "    def g(x,y):\n",
    "        return 1\n",
    "    \n",
    "    for i1,i2 in neumann:\n",
    "        xa1,xa2, ya1,ya2 = coordinates[i1,0],coordinates[i2,0],coordinates[i1,1],coordinates[i2,1]\n",
    "        # centre du segment\n",
    "        x,y = (xa1 + xa2)/2, (ya1 + ya2)/2\n",
    "        # distance entre les points\n",
    "        d = math.sqrt((xa1 - xa2)**2 + (ya1 - ya2)**2)\n",
    "        # approximation de la valeur ajoutée par les conditions de Neumann \n",
    "        # sur les sommets i1 et i2 \n",
    "        ad = g(x,y)*(d/2)\n",
    "        b[i1],b[i2] = b[i1] + ad, b[i2] + ad\n",
    "    \n",
    "    #calcul des éléments a l'intérieur du domaine\n",
    "    sommets = [i for i in range(l)]\n",
    "    sommets_int = np.setdiff1d(sommets, dirichlet)\n",
    "    al = a[sommets_int]\n",
    "    amod = al[:,sommets_int]\n",
    "    bmod = b[sommets_int]\n",
    "    # on calcul u sur les points intérieurs, avec les matrices \n",
    "    # A et b modifiées qui n'ont que les éléments qui \n",
    "    # permettent de calculer la solution sur l'intérieur du domaine \n",
    "    umod =  (np.linalg.inv(amod)).dot(bmod)\n",
    "    uh[sommets_int] = umod\n",
    "    \n",
    "    return uh, amod, bmod\n"
   ]
  },
  {
   "cell_type": "code",
   "execution_count": 91,
   "metadata": {},
   "outputs": [
    {
     "data": {
      "image/png": "[encoded data removed]",
      "text/plain": [
       "<Figure size 432x288 with 1 Axes>"
      ]
     },
     "metadata": {
      "needs_background": "light"
     },
     "output_type": "display_data"
    }
   ],
   "source": [
    "uh,ah,bh=assemblage_mixte(e3, e4, ccs, dds, nns)\n",
    "show(ccs, (uh[:,0]))"
   ]
  },
  {
   "attachments": {},
   "cell_type": "markdown",
   "metadata": {},
   "source": [
    "##  1.4 Compléments : introduction d’un nouveau terme dans l’EDP"
   ]
  },
  {
   "attachments": {},
   "cell_type": "markdown",
   "metadata": {},
   "source": [
    "Soit $\\Omega = ]0,1[ \\times ]0,1[ \\subset \\R^2$ et $\\partial \\Omega$ sa frontière. Etant donnée $f \\in L^2(\\Omega) $, $u_{d} \\in H^1(\\Omega)$ et $g \\in L^2(\\partial \\Omega_n)$, le problème de Laplace revient à déterminer $u$ solution de:\n",
    "\n",
    "$$\n",
    "\\left\\{\n",
    "    \\begin{array}{ll}\n",
    "        -\\Delta u(x,y) + & c_0*u(x,y) & = f(x,y) &  sur ~ \\Omega, \\\\\n",
    "        & u(x,y) & = u_d(x,y) & sur  ~ \\partial \\Omega, \\\\\n",
    "        \n",
    "    \\end{array}\n",
    "\\right.\n",
    "$$"
   ]
  },
  {
   "attachments": {},
   "cell_type": "markdown",
   "metadata": {},
   "source": [
    "- Formulation variationnelle du problème :\n",
    "\n",
    "On cherche à interpréter le problème au sens des distributions. On cherche $u \\in H^2(\\Omega)$. \n",
    "\n",
    "Le problème se réécrit :\n",
    "\n",
    "$$\n",
    "\\left\\{\n",
    "    \\begin{array}{ll}\n",
    "        -\\Delta u(x,y) + & c_0*u(x,y) = f(x,y) & dans ~ L^2(\\Omega) \\\\\n",
    "        & \\gamma_0 (u(x,y)) = u_d(x,y) & dans ~ H^1(\\partial\\Omega) \\\\\n",
    "    \\end{array}\n",
    "\\right.\n",
    "$$\n",
    "\n"
   ]
  }
 ],
 "metadata": {
  "kernelspec": {
   "display_name": "Python 3",
   "language": "python",
   "name": "python3"
  },
  "language_info": {
   "codemirror_mode": {
    "name": "ipython",
    "version": 3
   },
   "file_extension": ".py",
   "mimetype": "text/x-python",
   "name": "python",
   "nbconvert_exporter": "python",
   "pygments_lexer": "ipython3",
   "version": "3.8.10"
  },
  "vscode": {
   "interpreter": {
    "hash": "e46af29a4b87387793c3faaea9f17218bcd6fd5dba03efd8e7bd52a4adf8f4c0"
   }
  }
 },
 "nbformat": 4,
 "nbformat_minor": 4
}
